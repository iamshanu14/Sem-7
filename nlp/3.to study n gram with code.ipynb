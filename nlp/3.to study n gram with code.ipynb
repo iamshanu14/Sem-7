{
 "cells": [
  {
   "cell_type": "code",
   "execution_count": 1,
   "id": "a2ce0733",
   "metadata": {},
   "outputs": [
    {
     "name": "stdout",
     "output_type": "stream",
     "text": [
      "Original Text: N-grams are a sequence of items in a text or speech.\n",
      "3-grams:\n",
      "N-grams are a\n",
      "are a sequence\n",
      "a sequence of\n",
      "sequence of items\n",
      "of items in\n",
      "items in a\n",
      "in a text\n",
      "a text or\n",
      "text or speech\n",
      "or speech .\n"
     ]
    }
   ],
   "source": [
    "# Import the necessary library\n",
    "from nltk.util import ngrams\n",
    "from nltk.tokenize import word_tokenize\n",
    "\n",
    "# Sample text\n",
    "text = \"N-grams are a sequence of items in a text or speech.\"\n",
    "\n",
    "# Tokenize the text into words\n",
    "tokens = word_tokenize(text)\n",
    "\n",
    "# Function to generate N-grams\n",
    "def generate_ngrams(text, n):\n",
    "    n_grams = ngrams(text, n)\n",
    "    return [' '.join(gram) for gram in n_grams]\n",
    "\n",
    "# Specify the value of N for N-grams\n",
    "n = 3  # You can change this value to generate different N-grams (e.g., 2 for bigrams, 4 for 4-grams, etc.)\n",
    "\n",
    "# Generate N-grams\n",
    "ngram_list = generate_ngrams(tokens, n)\n",
    "\n",
    "# Display the results\n",
    "print(f\"Original Text: {text}\")\n",
    "print(f\"{n}-grams:\")\n",
    "for ngram in ngram_list:\n",
    "    print(ngram)\n"
   ]
  },
  {
   "cell_type": "code",
   "execution_count": null,
   "id": "8c8e27f2",
   "metadata": {},
   "outputs": [],
   "source": []
  }
 ],
 "metadata": {
  "kernelspec": {
   "display_name": "Python 3 (ipykernel)",
   "language": "python",
   "name": "python3"
  },
  "language_info": {
   "codemirror_mode": {
    "name": "ipython",
    "version": 3
   },
   "file_extension": ".py",
   "mimetype": "text/x-python",
   "name": "python",
   "nbconvert_exporter": "python",
   "pygments_lexer": "ipython3",
   "version": "3.11.3"
  }
 },
 "nbformat": 4,
 "nbformat_minor": 5
}
