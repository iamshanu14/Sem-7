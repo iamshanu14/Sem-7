{
 "cells": [
  {
   "cell_type": "code",
   "execution_count": 1,
   "id": "c5c908b7",
   "metadata": {},
   "outputs": [
    {
     "name": "stdout",
     "output_type": "stream",
     "text": [
      "         S             \n",
      "  _______|___           \n",
      " |           VP        \n",
      " |    _______|___       \n",
      " |   |           NP    \n",
      " |   |        ___|___   \n",
      " NP  V      Det      N \n",
      " |   |       |       |  \n",
      " I  saw     the     cat\n",
      "\n"
     ]
    }
   ],
   "source": [
    "import nltk\n",
    "\n",
    "# Define a context-free grammar\n",
    "cfg = nltk.CFG.fromstring(\"\"\"\n",
    "    S -> NP VP\n",
    "    NP -> Det N | 'I'\n",
    "    VP -> V NP\n",
    "    Det -> 'the' | 'an'\n",
    "    N -> 'cat' | 'dog'\n",
    "    V -> 'chased' | 'saw'\n",
    "\"\"\")\n",
    "\n",
    "# Create a parser with the defined CFG\n",
    "parser = nltk.ChartParser(cfg)\n",
    "\n",
    "# Define a sentence to parse\n",
    "sentence = \"I saw the cat\"\n",
    "\n",
    "# Tokenize the sentence\n",
    "tokens = nltk.word_tokenize(sentence)\n",
    "\n",
    "# Parse the sentence\n",
    "for tree in parser.parse(tokens):\n",
    "    tree.pretty_print()\n"
   ]
  },
  {
   "cell_type": "code",
   "execution_count": null,
   "id": "7da40970",
   "metadata": {},
   "outputs": [],
   "source": []
  }
 ],
 "metadata": {
  "kernelspec": {
   "display_name": "Python 3 (ipykernel)",
   "language": "python",
   "name": "python3"
  },
  "language_info": {
   "codemirror_mode": {
    "name": "ipython",
    "version": 3
   },
   "file_extension": ".py",
   "mimetype": "text/x-python",
   "name": "python",
   "nbconvert_exporter": "python",
   "pygments_lexer": "ipython3",
   "version": "3.11.3"
  }
 },
 "nbformat": 4,
 "nbformat_minor": 5
}
