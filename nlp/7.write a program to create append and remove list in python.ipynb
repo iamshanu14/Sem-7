{
 "cells": [
  {
   "cell_type": "code",
   "execution_count": 1,
   "id": "d28326dd",
   "metadata": {},
   "outputs": [
    {
     "name": "stdout",
     "output_type": "stream",
     "text": [
      "Initial List: [10, 20, 30]\n",
      "List after removing 20 : [10, 30]\n",
      "Removed item at index 1 : 30\n",
      "List after removal by index: [10]\n"
     ]
    }
   ],
   "source": [
    "# Create an empty list\n",
    "my_list = []\n",
    "\n",
    "# Append items to the list\n",
    "my_list.append(10)\n",
    "my_list.append(20)\n",
    "my_list.append(30)\n",
    "\n",
    "# Display the list\n",
    "print(\"Initial List:\", my_list)\n",
    "\n",
    "# Remove an item by value\n",
    "value_to_remove = 20\n",
    "if value_to_remove in my_list:\n",
    "    my_list.remove(value_to_remove)\n",
    "\n",
    "# Display the list after removal\n",
    "print(\"List after removing\", value_to_remove, \":\", my_list)\n",
    "\n",
    "# Remove an item by index\n",
    "index_to_remove = 1\n",
    "if 0 <= index_to_remove < len(my_list):\n",
    "    removed_item = my_list.pop(index_to_remove)\n",
    "    print(\"Removed item at index\", index_to_remove, \":\", removed_item)\n",
    "\n",
    "# Display the list after removal by index\n",
    "print(\"List after removal by index:\", my_list)\n"
   ]
  },
  {
   "cell_type": "code",
   "execution_count": null,
   "id": "415272da",
   "metadata": {},
   "outputs": [],
   "source": []
  }
 ],
 "metadata": {
  "kernelspec": {
   "display_name": "Python 3 (ipykernel)",
   "language": "python",
   "name": "python3"
  },
  "language_info": {
   "codemirror_mode": {
    "name": "ipython",
    "version": 3
   },
   "file_extension": ".py",
   "mimetype": "text/x-python",
   "name": "python",
   "nbconvert_exporter": "python",
   "pygments_lexer": "ipython3",
   "version": "3.11.3"
  }
 },
 "nbformat": 4,
 "nbformat_minor": 5
}
