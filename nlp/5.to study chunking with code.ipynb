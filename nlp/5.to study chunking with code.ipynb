{
 "cells": [
  {
   "cell_type": "code",
   "execution_count": 1,
   "id": "c48657b4",
   "metadata": {},
   "outputs": [
    {
     "name": "stdout",
     "output_type": "stream",
     "text": [
      "Original Text:\n",
      "Natural language processing is a subfield of artificial intelligence that deals with the interaction between computers and human language.\n",
      "\n",
      "Chunked Text:\n",
      "(S\n",
      "  (NP Natural/JJ language/NN)\n",
      "  (NP processing/NN)\n",
      "  is/VBZ\n",
      "  (NP a/DT subfield/NN)\n",
      "  of/IN\n",
      "  (NP artificial/JJ intelligence/NN)\n",
      "  that/IN\n",
      "  deals/NNS\n",
      "  with/IN\n",
      "  (NP the/DT interaction/NN)\n",
      "  between/IN\n",
      "  computers/NNS\n",
      "  and/CC\n",
      "  (NP human/JJ language/NN)\n",
      "  ./.)\n"
     ]
    }
   ],
   "source": [
    "import nltk\n",
    "\n",
    "# Sample text\n",
    "text = \"Natural language processing is a subfield of artificial intelligence that deals with the interaction between computers and human language.\"\n",
    "\n",
    "# Tokenize the text into words\n",
    "tokens = nltk.word_tokenize(text)\n",
    "\n",
    "# Perform part-of-speech tagging\n",
    "pos_tags = nltk.pos_tag(tokens)\n",
    "\n",
    "# Define a chunking grammar\n",
    "grammar = \"NP: {<DT>?<JJ>*<NN>}\"  # Define a simple grammar for noun phrases (DT: determiner, JJ: adjective, NN: noun)\n",
    "\n",
    "# Create a chunk parser\n",
    "chunk_parser = nltk.RegexpParser(grammar)\n",
    "\n",
    "# Parse the part-of-speech tagged text\n",
    "chunked_text = chunk_parser.parse(pos_tags)\n",
    "\n",
    "# Display the results\n",
    "print(\"Original Text:\")\n",
    "print(text)\n",
    "print(\"\\nChunked Text:\")\n",
    "print(chunked_text)\n"
   ]
  },
  {
   "cell_type": "code",
   "execution_count": null,
   "id": "116b527c",
   "metadata": {},
   "outputs": [],
   "source": []
  },
  {
   "cell_type": "code",
   "execution_count": null,
   "id": "f151df7c",
   "metadata": {},
   "outputs": [],
   "source": []
  },
  {
   "cell_type": "code",
   "execution_count": null,
   "id": "0beaf55f",
   "metadata": {},
   "outputs": [],
   "source": []
  }
 ],
 "metadata": {
  "kernelspec": {
   "display_name": "Python 3 (ipykernel)",
   "language": "python",
   "name": "python3"
  },
  "language_info": {
   "codemirror_mode": {
    "name": "ipython",
    "version": 3
   },
   "file_extension": ".py",
   "mimetype": "text/x-python",
   "name": "python",
   "nbconvert_exporter": "python",
   "pygments_lexer": "ipython3",
   "version": "3.11.3"
  }
 },
 "nbformat": 4,
 "nbformat_minor": 5
}
