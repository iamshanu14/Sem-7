{
 "cells": [
  {
   "cell_type": "code",
   "execution_count": 1,
   "id": "e72d4e96",
   "metadata": {},
   "outputs": [
    {
     "name": "stdout",
     "output_type": "stream",
     "text": [
      "Original Text:\n",
      "Text preprocessing is an important step in natural language processing. It involves tokenization, filtration, script validation, stop word removal, and stemming.\n",
      "\n",
      "Tokenization:\n",
      "['Text', 'preprocessing', 'is', 'an', 'important', 'step', 'in', 'natural', 'language', 'processing', '.', 'It', 'involves', 'tokenization', ',', 'filtration', ',', 'script', 'validation', ',', 'stop', 'word', 'removal', ',', 'and', 'stemming', '.']\n",
      "\n",
      "Filtration:\n",
      "['text', 'preprocessing', 'is', 'an', 'important', 'step', 'in', 'natural', 'language', 'processing', '', 'it', 'involves', 'tokenization', '', 'filtration', '', 'script', 'validation', '', 'stop', 'word', 'removal', '', 'and', 'stemming', '']\n",
      "\n",
      "Script Validation:\n",
      "['text', 'preprocessing', 'is', 'an', 'important', 'step', 'in', 'natural', 'language', 'processing', 'it', 'involves', 'tokenization', 'filtration', 'script', 'validation', 'stop', 'word', 'removal', 'and', 'stemming']\n",
      "\n",
      "Stop Word Removal:\n",
      "['text', 'preprocessing', 'important', 'step', 'natural', 'language', 'processing', 'involves', 'tokenization', 'filtration', 'script', 'validation', 'stop', 'word', 'removal', 'stemming']\n",
      "\n",
      "Stemming:\n",
      "['text', 'preprocess', 'import', 'step', 'natur', 'languag', 'process', 'involv', 'token', 'filtrat', 'script', 'valid', 'stop', 'word', 'remov', 'stem']\n"
     ]
    }
   ],
   "source": [
    "# Import necessary libraries\n",
    "import re\n",
    "from nltk.tokenize import word_tokenize\n",
    "from nltk.corpus import stopwords\n",
    "from nltk.stem import PorterStemmer\n",
    "\n",
    "# Sample text\n",
    "text = \"Text preprocessing is an important step in natural language processing. It involves tokenization, filtration, script validation, stop word removal, and stemming.\"\n",
    "\n",
    "# Tokenization: Split the text into words or tokens\n",
    "tokens = word_tokenize(text)\n",
    "\n",
    "# Filtration: Remove non-alphanumeric characters and convert to lowercase\n",
    "filtered_tokens = [re.sub(r'[^a-zA-Z0-9]', '', token).lower() for token in tokens]\n",
    "\n",
    "# Script Validation: You can use regular expressions to validate scripts (e.g., only keep words with Latin characters)\n",
    "latin_tokens = [token for token in filtered_tokens if re.match('^[a-zA-Z]+$', token)]\n",
    "\n",
    "# Stop Word Removal: Remove common stop words\n",
    "stop_words = set(stopwords.words('english'))\n",
    "filtered_tokens_no_stop = [token for token in latin_tokens if token not in stop_words]\n",
    "\n",
    "# Stemming: Reduce words to their root form using Porter Stemmer\n",
    "stemmer = PorterStemmer()\n",
    "stemmed_tokens = [stemmer.stem(token) for token in filtered_tokens_no_stop]\n",
    "\n",
    "# Display the results\n",
    "print(\"Original Text:\")\n",
    "print(text)\n",
    "print(\"\\nTokenization:\")\n",
    "print(tokens)\n",
    "print(\"\\nFiltration:\")\n",
    "print(filtered_tokens)\n",
    "print(\"\\nScript Validation:\")\n",
    "print(latin_tokens)\n",
    "print(\"\\nStop Word Removal:\")\n",
    "print(filtered_tokens_no_stop)\n",
    "print(\"\\nStemming:\")\n",
    "print(stemmed_tokens)\n"
   ]
  },
  {
   "cell_type": "code",
   "execution_count": null,
   "id": "7f99c337",
   "metadata": {},
   "outputs": [],
   "source": []
  },
  {
   "cell_type": "code",
   "execution_count": null,
   "id": "6a1b9115",
   "metadata": {},
   "outputs": [],
   "source": []
  }
 ],
 "metadata": {
  "kernelspec": {
   "display_name": "Python 3 (ipykernel)",
   "language": "python",
   "name": "python3"
  },
  "language_info": {
   "codemirror_mode": {
    "name": "ipython",
    "version": 3
   },
   "file_extension": ".py",
   "mimetype": "text/x-python",
   "name": "python",
   "nbconvert_exporter": "python",
   "pygments_lexer": "ipython3",
   "version": "3.12.0"
  }
 },
 "nbformat": 4,
 "nbformat_minor": 5
}
